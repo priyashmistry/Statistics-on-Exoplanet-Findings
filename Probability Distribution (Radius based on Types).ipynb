{
 "cells": [
  {
   "cell_type": "markdown",
   "id": "8908d2fe",
   "metadata": {},
   "source": [
    "# Importing Libraries"
   ]
  },
  {
   "cell_type": "code",
   "execution_count": 1,
   "id": "98c5310e",
   "metadata": {},
   "outputs": [],
   "source": [
    "import numpy as np\n",
    "from sympy import *\n",
    "import matplotlib.pyplot as plt\n",
    "import pandas as pd\n",
    "from colorama import*\n",
    "from scipy.interpolate import make_interp_spline\n",
    "import  os\n",
    "from tabulate import tabulate\n",
    "\n",
    "font1 = {'family':'serif','color':'black'}"
   ]
  },
  {
   "cell_type": "markdown",
   "id": "22f8b36c",
   "metadata": {},
   "source": [
    "# Path to the Data file & Extracting the Data"
   ]
  },
  {
   "cell_type": "code",
   "execution_count": 2,
   "id": "9fd1aa69",
   "metadata": {},
   "outputs": [],
   "source": [
    "filename = 'Radius - All.xlsx'\n",
    "\n",
    "df = pd.read_excel(filename)\n",
    "radius = df['Radius']"
   ]
  },
  {
   "cell_type": "markdown",
   "id": "a9596d34",
   "metadata": {},
   "source": [
    "# Arrays to store different values of Radius"
   ]
  },
  {
   "cell_type": "code",
   "execution_count": 3,
   "id": "5b66bf55",
   "metadata": {},
   "outputs": [],
   "source": [
    "# Array that difens the radii range of exoplanets in Earth radii\n",
    "xlabel = [\"0 - 1.25\", \"1.25 - 2\", \"2 - 6\", \"6 - 15\", \"> 15\"]\n",
    "\n",
    "c1, c2, c3, c4, c5 = [0,0,0,0,0]"
   ]
  },
  {
   "cell_type": "markdown",
   "id": "239a0b84",
   "metadata": {},
   "source": [
    "# Loop that separate out the exoplanets based on the respective Radii"
   ]
  },
  {
   "cell_type": "code",
   "execution_count": 4,
   "id": "f292c268",
   "metadata": {},
   "outputs": [],
   "source": [
    "for i in range(np.size(radius)):\n",
    "    if radius[i] >=0 and radius[i] <1.25:\n",
    "        c1 = c1 + 1\n",
    "        \n",
    "    elif radius[i] >=1.25 and radius[i] <2:\n",
    "        c2 = c2 + 1\n",
    "        \n",
    "    elif radius[i] >=2 and radius[i] <6:\n",
    "        c3 = c3 + 1\n",
    "    \n",
    "    elif radius[i] >=6 and radius[i] <15:\n",
    "        c4 = c4 + 1\n",
    "        \n",
    "    elif radius[i] >=15:\n",
    "        c5 = c5 + 1"
   ]
  },
  {
   "cell_type": "markdown",
   "id": "f695db13",
   "metadata": {},
   "source": [
    "# Calculate the Occurrecne Rate "
   ]
  },
  {
   "cell_type": "code",
   "execution_count": 5,
   "id": "a2af109b",
   "metadata": {},
   "outputs": [
    {
     "name": "stdout",
     "output_type": "stream",
     "text": [
      "True\n",
      "Sum =  3827 \n",
      "No. of Rows =  3827\n"
     ]
    }
   ],
   "source": [
    "count = np.array([c1, c2, c3, c4, c5])\n",
    "\n",
    "if sum(count) == np.size(radius):\n",
    "    print(\"True\")\n",
    "    print(\"Sum = \",sum(count), \"\\nNo. of Rows = \",np.size(radius))\n",
    "else:\n",
    "    print(\"False\")\n",
    "    print(\"Sum = \",sum(count), \"\\nNo. of Rows = \",np.size(radius))\n",
    "    \n",
    "ocrate = count*100/np.size(radius)"
   ]
  },
  {
   "cell_type": "markdown",
   "id": "afbab702",
   "metadata": {},
   "source": [
    "# Graph "
   ]
  },
  {
   "cell_type": "code",
   "execution_count": 6,
   "id": "a579c446",
   "metadata": {},
   "outputs": [
    {
     "data": {
      "image/png": "[encoded data removed]",
      "text/plain": [
       "<Figure size 576x360 with 1 Axes>"
      ]
     },
     "metadata": {
      "needs_background": "light"
     },
     "output_type": "display_data"
    }
   ],
   "source": [
    "plt.bar(xlabel,ocrate, zorder = 2, color=\"sandybrown\", edgecolor='saddlebrown', linewidth = 1.5, width = 0.5)\n",
    "\n",
    "plt.xlabel('Radius ($R_E$)',fontdict=font1, weight = \"bold\",fontsize=\"20\")\n",
    "plt.ylabel('Occurrence Rate (%)',fontdict=font1, weight = \"bold\",fontsize=\"20\")\n",
    "\n",
    "plt.xticks(fontsize = 13)\n",
    "plt.yticks(fontsize = 13)\n",
    "plt.grid(axis = \"y\", zorder = 1)\n",
    "\n",
    "fig=plt.gcf()\n",
    "fig.set_size_inches(8,5)\n",
    "\n",
    "fig.savefig(os.path.join('Radius_Types_All.jpeg'), format='jpeg', dpi=600, bbox_inches = 'tight')"
   ]
  },
  {
   "cell_type": "markdown",
   "id": "91673034",
   "metadata": {},
   "source": [
    "# For TESS Only \n",
    "Comaprison with Thomas Barclay et al., 2018"
   ]
  },
  {
   "cell_type": "code",
   "execution_count": 8,
   "id": "60d2a3c6",
   "metadata": {},
   "outputs": [],
   "source": [
    "filename = 'Radius TESS For Comparison.xlsx'\n",
    "\n",
    "df = pd.read_excel(filename)\n",
    "radius = df['Radius']"
   ]
  },
  {
   "cell_type": "code",
   "execution_count": 9,
   "id": "f93150c5",
   "metadata": {},
   "outputs": [],
   "source": [
    "# Array that difens the radii range of exoplanets in Earth radii\n",
    "xlabel = [\"0 - 1.25\", \"1.25 - 2\", \"2 - 4\", \"> 4\"]\n",
    "\n",
    "c1, c2, c3, c4= [0,0,0,0]"
   ]
  },
  {
   "cell_type": "code",
   "execution_count": 10,
   "id": "433dea94",
   "metadata": {},
   "outputs": [],
   "source": [
    "for i in range(np.size(radius)):\n",
    "    if radius[i] >=0 and radius[i] <1.25:\n",
    "        c1 = c1 + 1\n",
    "        \n",
    "    elif radius[i] >=1.25 and radius[i] <2:\n",
    "        c2 = c2 + 1\n",
    "        \n",
    "    elif radius[i] >=2 and radius[i] <4:\n",
    "        c3 = c3 + 1\n",
    "    \n",
    "    elif radius[i] >=4:\n",
    "        c4 = c4 + 1"
   ]
  },
  {
   "cell_type": "code",
   "execution_count": 11,
   "id": "024eb2b0",
   "metadata": {},
   "outputs": [
    {
     "name": "stdout",
     "output_type": "stream",
     "text": [
      "True\n",
      "Sum =  195 \n",
      "No. of Rows =  195\n"
     ]
    }
   ],
   "source": [
    "count = np.array([c1, c2, c3, c4])\n",
    "\n",
    "if sum(count) == np.size(radius):\n",
    "    print(\"True\")\n",
    "    print(\"Sum = \",sum(count), \"\\nNo. of Rows = \",np.size(radius))\n",
    "else:\n",
    "    print(\"False\")\n",
    "    print(\"Sum = \",sum(count), \"\\nNo. of Rows = \",np.size(radius))\n",
    "    \n",
    "ocrate = count*100/np.size(radius)"
   ]
  },
  {
   "cell_type": "code",
   "execution_count": 12,
   "id": "a3decef6",
   "metadata": {},
   "outputs": [
    {
     "data": {
      "image/png": "[encoded data removed]",
      "text/plain": [
       "<Figure size 540x360 with 1 Axes>"
      ]
     },
     "metadata": {
      "needs_background": "light"
     },
     "output_type": "display_data"
    }
   ],
   "source": [
    "xlabel1 = [-0.15, 0.85, 1.85, 2.85]\n",
    "xlabel2 = [0.15, 1.15, 2.15, 3.15]\n",
    "\n",
    "plt.bar(xlabel1,ocrate, zorder = 2, color=\"springgreen\", edgecolor='darkgreen', linewidth = 1.5, width = 0.3, label = \"This Work\")\n",
    "plt.bar(xlabel2,[1.01, 5.2712, 41.14, 58.58], zorder = 2, color=\"deepskyblue\", edgecolor='blue', linewidth = 1.5, width = 0.3, label = \"Thomas Barclay et al., 2018\")\n",
    "\n",
    "plt.xlabel('Radius ($R_E$)',fontdict=font1, weight = \"bold\",fontsize=\"20\")\n",
    "plt.ylabel('Occurrence Rate (%)',fontdict=font1, weight = \"bold\",fontsize=\"20\")\n",
    "\n",
    "tick_locs = [0, 1, 2, 3]\n",
    "plt.xticks(tick_locs, xlabel)\n",
    "\n",
    "plt.xticks(fontsize = 15)\n",
    "plt.yticks(fontsize = 15)\n",
    "plt.grid(axis = \"y\", zorder = 1)\n",
    "\n",
    "plt.legend(fontsize = 15)\n",
    "\n",
    "fig=plt.gcf()\n",
    "fig.set_size_inches(7.5,5)\n",
    "\n",
    "fig.savefig(os.path.join('Radius_Compare_TESS.jpeg'), format='jpeg', dpi=600, bbox_inches = 'tight')"
   ]
  }
 ],
 "metadata": {
  "kernelspec": {
   "display_name": "Python 3",
   "language": "python",
   "name": "python3"
  },
  "language_info": {
   "codemirror_mode": {
    "name": "ipython",
    "version": 3
   },
   "file_extension": ".py",
   "mimetype": "text/x-python",
   "name": "python",
   "nbconvert_exporter": "python",
   "pygments_lexer": "ipython3",
   "version": "3.8.8"
  }
 },
 "nbformat": 4,
 "nbformat_minor": 5
}
